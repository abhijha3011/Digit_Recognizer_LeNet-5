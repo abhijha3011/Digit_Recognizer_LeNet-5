{
 "cells": [
  {
   "cell_type": "code",
   "execution_count": 3,
   "metadata": {},
   "outputs": [],
   "source": [
    "from keras.models import Sequential\n",
    "from keras import models, layers\n",
    "import keras\n",
    "\n",
    "import pandas as pd\n",
    "import seaborn as sns\n"
   ]
  },
  {
   "cell_type": "code",
   "execution_count": 4,
   "metadata": {},
   "outputs": [
    {
     "name": "stdout",
     "output_type": "stream",
     "text": [
      "   label  pixel0  pixel1  pixel2  pixel3  pixel4  pixel5  pixel6  pixel7  \\\n",
      "0      1       0       0       0       0       0       0       0       0   \n",
      "1      0       0       0       0       0       0       0       0       0   \n",
      "2      1       0       0       0       0       0       0       0       0   \n",
      "3      4       0       0       0       0       0       0       0       0   \n",
      "4      0       0       0       0       0       0       0       0       0   \n",
      "\n",
      "   pixel8  ...  pixel774  pixel775  pixel776  pixel777  pixel778  pixel779  \\\n",
      "0       0  ...         0         0         0         0         0         0   \n",
      "1       0  ...         0         0         0         0         0         0   \n",
      "2       0  ...         0         0         0         0         0         0   \n",
      "3       0  ...         0         0         0         0         0         0   \n",
      "4       0  ...         0         0         0         0         0         0   \n",
      "\n",
      "   pixel780  pixel781  pixel782  pixel783  \n",
      "0         0         0         0         0  \n",
      "1         0         0         0         0  \n",
      "2         0         0         0         0  \n",
      "3         0         0         0         0  \n",
      "4         0         0         0         0  \n",
      "\n",
      "[5 rows x 785 columns]\n"
     ]
    }
   ],
   "source": [
    "train = pd.read_csv(\"./train.csv\")\n",
    "#test = pd.read_csv(\"./digit-recognizer/test.csv\")\n",
    "print(train.head())"
   ]
  },
  {
   "cell_type": "code",
   "execution_count": 5,
   "metadata": {},
   "outputs": [
    {
     "data": {
      "text/plain": [
       "1    4684\n",
       "7    4401\n",
       "3    4351\n",
       "9    4188\n",
       "2    4177\n",
       "6    4137\n",
       "0    4132\n",
       "4    4072\n",
       "8    4063\n",
       "5    3795\n",
       "Name: label, dtype: int64"
      ]
     },
     "execution_count": 5,
     "metadata": {},
     "output_type": "execute_result"
    },
    {
     "data": {
      "image/png": "[encoded data removed]",
      "text/plain": [
       "<Figure size 432x288 with 1 Axes>"
      ]
     },
     "metadata": {
      "needs_background": "light"
     },
     "output_type": "display_data"
    }
   ],
   "source": [
    "Y_train = train[\"label\"]\n",
    "\n",
    "#Drop 'Label' Column\n",
    "X_train = train.drop(labels = [\"label\"], axis=1)\n",
    "\n",
    "# free some space\n",
    "del train\n",
    "\n",
    "g= sns.countplot(Y_train)\n",
    "Y_train.value_counts()"
   ]
  },
  {
   "cell_type": "code",
   "execution_count": 6,
   "metadata": {},
   "outputs": [],
   "source": [
    "#We perform a grayscale normalization to reduce the effect of illumination's differences.\n",
    "\n",
    "#Normalize the data\n",
    "\n",
    "X_train = X_train/255.0\n",
    "#test = test/255.0"
   ]
  },
  {
   "cell_type": "code",
   "execution_count": 7,
   "metadata": {},
   "outputs": [],
   "source": [
    "#Reshape Image in 3 Dimensions (Height = 28Px, Width=28Px, Canal=1)\n",
    "\n",
    "X_train= X_train.values.reshape(-1,28,28,1)\n",
    "#test = test.values.reshape(-1,28,28,1)"
   ]
  },
  {
   "cell_type": "code",
   "execution_count": 8,
   "metadata": {},
   "outputs": [],
   "source": [
    "# Label Encoding\n",
    "from keras.utils import to_categorical\n",
    "Y_train = to_categorical(Y_train, num_classes= 10)"
   ]
  },
  {
   "cell_type": "code",
   "execution_count": 9,
   "metadata": {},
   "outputs": [],
   "source": [
    "# Split The train and test 10% and 90%\n",
    "from sklearn.model_selection import train_test_split\n",
    "random_seed =2\n",
    "X_train, X_val, Y_train, Y_val = train_test_split(X_train, Y_train,test_size=0.1, random_state=random_seed)"
   ]
  },
  {
   "cell_type": "code",
   "execution_count": 10,
   "metadata": {},
   "outputs": [
    {
     "data": {
      "image/png": "[encoded data removed]",
      "text/plain": [
       "<Figure size 432x288 with 1 Axes>"
      ]
     },
     "metadata": {
      "needs_background": "light"
     },
     "output_type": "display_data"
    }
   ],
   "source": [
    "import matplotlib.pyplot as plt\n",
    "g=plt.imshow(X_train[2][:,:,0])"
   ]
  },
  {
   "cell_type": "code",
   "execution_count": 11,
   "metadata": {},
   "outputs": [],
   "source": [
    "#Instantiate an empty model\n",
    "model = Sequential()\n",
    "\n",
    "#C1 Convolution Layer\n",
    "model.add(layers.Conv2D(filters= 6, kernel_size=(5, 5), strides=(1,1),activation='tanh', input_shape=(28,28,1),padding=\"same\"))\n",
    "\n",
    "#S2 Pooling Layer\n",
    "model.add(layers.AveragePooling2D(pool_size=(2,2), strides=(1,1),padding='valid'))\n",
    "\n",
    "#C3 Convolution Layer\n",
    "model.add(layers.Conv2D(filters= 16, kernel_size=5, strides=1, activation='tanh', padding='valid'))\n",
    "\n",
    "#S4 Pooling Layer\n",
    "model.add(layers.AveragePooling2D(pool_size=(2,2), strides=(2,2), padding='valid'))\n",
    "\n",
    "#C5 Fully Connected Convolution Layer\n",
    "model.add(layers.Conv2D(filters=120, kernel_size=(5,5), strides=(1,1), activation='tanh', padding='valid'))\n",
    "\n",
    "#Flatten the CNN output so that we can connect it with fully connected layers\n",
    "model.add(layers.Flatten())\n",
    "\n",
    "#FC6 Fully Connected Layer\n",
    "model.add(layers.Dense(84,activation='tanh'))\n",
    "\n",
    "#Output Layer with softmax activation\n",
    "model.add(layers.Dense(10,activation='softmax'))\n",
    "\n",
    "#compile the model\n",
    "model.compile(loss=keras.losses.categorical_crossentropy, optimizer='SGD', metrics=[\"accuracy\"])\n",
    "\n"
   ]
  },
  {
   "cell_type": "code",
   "execution_count": 12,
   "metadata": {},
   "outputs": [
    {
     "name": "stdout",
     "output_type": "stream",
     "text": [
      "Epoch 1/10\n",
      "296/296 [==============================] - 55s 187ms/step - loss: 0.7945 - accuracy: 0.8077 - val_loss: 0.4172 - val_accuracy: 0.88058s - loss: 2.2706 - accuracy: 0.181 - ETA: 49s - loss: 2.2636 - ac - ETA: 51s - loss: 2.1522 - accuracy: 0. - ETA: 50s - loss: 2.1158 - accur - ETA: 48s - loss: 1.9937 - accuracy: 0. - ETA: 48s - los - ETA: 42s - loss: 1.6239 - accuracy: 0. - ETA: 42s - loss: 1.5841 - accuracy - ETA: 40s - loss: 1.5120 - accuracy: 0. - ETA: 39s - loss: 1.4779 - accuracy: 0.66 - ETA: 39s - loss: 1.4626 - accura - ETA: 37s - loss: 1.3891 - accuracy: 0. - ETA: 36s - loss: 1.3616 - accuracy: 0.690 -  - ETA: 28s - loss: 1.1388 - accuracy - ETA: 26s - loss: 1.1071 - accur - ETA: 24s - loss: 1.0696 - accura - ETA: 22s - loss: 1.0372 - accuracy: 0.75 - ETA: 22s - l - ETA: 16s - loss: 0.9545 - acc - ETA: 14s - loss: 0.9255 - acc - ETA: 11s - loss: 0.8994 - accuracy: 0.78 - ETA: 11s - loss: 0.8957 - accuracy: 0.78 - ETA: 11s - loss: 0.8923 -  - ETA: 9s - loss: - ETA: 6s - loss: 0.8490 - accura - ETA: 5s - loss: 0.840\n",
      "Epoch 2/10\n",
      "296/296 [==============================] - 54s 183ms/step - loss: 0.3633 - accuracy: 0.8971 - val_loss: 0.3308 - val_accuracy: 0.9031: 49s - loss: 0.3888 - accuracy: 0.89 - ETA: 49s - loss: 0 - ETA: 44s -  - ETA: 38s - loss: 0.3788 - accuracy:  - ETA: 37s - loss: 0.3779 - accurac - ETA: 36s - loss: 0.3774 - accuracy:  - ETA: 35s - loss: 0.3770 - accuracy: 0.89 - ETA: 34s - loss: 0.3770 - accuracy: 0.8 - ETA: 34s -  - ETA: 28s - loss: 0.3834 - accuracy: 0.893 - ETA: 28s - loss: 0.3831 - accu - ETA: 26s - loss: 0.3786 - accu - ETA: 24s - loss: 0.3757  - ETA: 21s - loss: 0.3742 - accuracy - ETA: 19s - loss: 0.3746 - accuracy: 0 - ETA: 18s - loss: 0.3736 - accuracy - ETA: 17s - loss: 0.3734 - accuracy:  - ETA: 16s - lo - ETA: 6s - loss: 0.3661 - accuracy - - ETA: 1s - loss: 0\n",
      "Epoch 3/10\n",
      "296/296 [==============================] - 57s 192ms/step - loss: 0.3023 - accuracy: 0.9129 - val_loss: 0.2874 - val_accuracy: 0.9179 46s - loss: 0.2886 - accuracy:  - ETA: 48s - loss: 0.2836 - a - ETA: 46s - loss: 0.3127 - accuracy: 0.90 - ETA: 46s - loss: 0.3115 - accuracy: 0.909 - ETA: 46s - loss: 0.3086 - accuracy - ETA: 45s - loss: 0 - ETA: 41s - loss: 0.3060 - accuracy: 0.914 - ETA: 41s - loss: - ETA: 36s - loss: 0.3101 - accuracy: 0.91 - ETA: 35s - loss: 0.3097 - accuracy: 0. - ETA: 35s - loss: 0.3094 - accuracy: - ETA: 34s - loss: 0.3102 - acc - ETA: 31s - loss: 0.3112 - a - ETA: 29s - loss: 0 - ETA: 25s - loss: 0.3086 - accuracy: 0.9 - ETA: 24s - loss: 0.3085 - accuracy: 0. - ETA: 24s - l - ETA: 18s - loss: 0.3094 - a - ETA: 15s - loss: 0.3085 - accuracy: 0 - ETA: 14s - loss: 0.3087 - accuracy: 0.91 - ETA: 14s - loss: 0.3085 - accuracy: 0.91 - ETA: 14s - loss: 0.3088 - accura - ETA: 12s - loss: 0.3083 - accuracy - ETA: 10s - loss: 0.3073 - accuracy - ETA: 9s - loss: 0.3073 - accu - ETA: 8s - loss: 0.3065 - ac - ETA: 7s - loss: 0.3046 - accuracy: 0. - ETA: 6s - loss: 0.3055 - accuracy:  - ETA: 6s - los - ETA - ETA: 0s - loss: 0.3024 - accuracy: 0.\n",
      "Epoch 4/10\n",
      "296/296 [==============================] - 57s 194ms/step - loss: 0.2653 - accuracy: 0.9228 - val_loss: 0.2583 - val_accuracy: 0.9260 0.27 - ETA: 32s - loss: 0.2773 - accuracy: 0.91 - ETA: 31s - loss: 0.277 - ETA: 28s - loss: 0.2772 - accuracy: 0.9 - ETA: 27s - loss: 0.2770 - accuracy - ETA: 26s - loss: 0.2769 - accuracy - ETA: 24s - loss: 0.2758 - accuracy - ETA: 23s - loss: 0.2764 - accuracy: 0. - ETA: 22 - ETA: 15s - loss: 0.2712 - accurac - ETA: 14s - loss: 0.2721 - acc - ETA: 11s - loss: 0.2706 - accuracy: 0.  - ETA: 6s - loss: 0.2686 - accuracy: 0. - ETA: 5s - loss: 0.268\n",
      "Epoch 5/10\n",
      "296/296 [==============================] - 57s 193ms/step - loss: 0.2387 - accuracy: 0.9303 - val_loss: 0.2355 - val_accuracy: 0.934508 - accuracy: - ETA: 49s - loss: 0.2537 - accuracy: 0.92 - ETA: 48s - loss: 0.2498 - accuracy: 0.92 - ETA: 48s - loss: - ETA: 44s - loss: 0.2419  - ETA: 40s - loss: 0.2387 - ETA: 37s - loss: 0.2400 - accuracy: 0.92 - ETA: 36s - loss: 0.2409 - accuracy:  - ETA: 35s - loss: 0.2407 - accuracy: 0. - ETA: 34s - loss: 0.2419 -  - ETA: 32s - loss: 0.2416 - accuracy: 0.9 - ETA: 31s - loss: 0.2415 - accura - ETA: 29s - loss: 0.2425 - accur - ETA: 27s - loss: 0.2410 - accuracy: 0.92 - ETA: 27s - loss: 0.2410 - accuracy: 0 - ETA: 26s - loss: 0.2404 - accuracy: 0.92 - ETA: 25s - loss: 0.2400 - accurac - ETA: 24s - loss: 0.2399 - accuracy: 0.92 - ETA: 23s - loss: 0.2398 - accuracy - ETA: 21s - loss: 0.23 - ETA: 18s - loss: 0.2400 - accura - ETA: 15s - loss: 0.2393 - accuracy - ETA: 14s - loss: 0.2397 - accuracy: 0.9 - ETA: 13s - loss: 0.2405 - accuracy: 0 - ETA: 12s - loss: 0.2398 - accuracy: 0.93 - ETA: 12s - loss: 0.2 - ETA: 9s - loss: - ETA: 2s - l\n",
      "Epoch 6/10\n",
      "296/296 [==============================] - 58s 195ms/step - loss: 0.2181 - accuracy: 0.9371 - val_loss: 0.2192 - val_accuracy: 0.9374loss: 0.2256 - - ETA: 50s - loss: 0.2072 - accura - ETA: 47s - loss: 0.2130 - accuracy: 0 - ETA: 46s - loss: 0.2194 - - ETA: 44s - loss: 0.2200 - accuracy:  - ETA: 43s - loss: 0.2226 - accuracy: 0.93 - ETA: 42s - loss: 0.2212 - accuracy: 0.9 - ETA: 42s - loss: 0.2228 - acc - ETA: 39s - loss: 0.2175 - - ETA: 36s - loss: 0.2139 - accuracy: - ETA: 34s - loss: 0.2139 - accuracy: 0. - ETA: 34s - loss: 0.2148 - accuracy - ETA: 32s - loss: 0.2160 - accuracy: 0.93 - ETA: 32s - ETA: 25s - loss:  - ETA: 21s - loss: 0.2175 - accuracy: 0. - ETA: 20s - loss: 0.2165 - accuracy: 0.93 - ETA: 19s - loss: 0.2 - ETA: 15s - loss: 0.2192 - accuracy: 0.93 - ETA: 15s - loss: 0.2192 - accuracy: 0. - ETA: 14s - loss: 0.2198 - accu - ETA: 12s - loss: 0.2196 - accura - ETA: 10s - loss: 0.2216 - accuracy: 0. - ETA: 9s - loss: 0.2214 - accuracy: 0.93 - ETA: 5s - loss: 0.2182 - accuracy: 0. - ETA: 4s - loss: 0.2181 - ac - ETA: 3s - loss: 0.2186 - accu - ETA: 2s - los\n",
      "Epoch 7/10\n",
      "296/296 [==============================] - 58s 194ms/step - loss: 0.2012 - accuracy: 0.9420 - val_loss: 0.2046 - val_accuracy: 0.94267 - accurac - ETA: 49s - loss: 0.1964 - accuracy - ETA: 48s - loss: 0.1977 - ac - ETA: 46s - loss: 0.1932 - accuracy: 0 - ETA: 45s - loss: 0.1954 - accur - ETA: 43s - loss:  - ETA: 38s - loss: 0.197 - ETA: 34s - loss: 0.1997 - accur - ETA: 32s - loss: 0.1986 - ac - ETA: 29s - loss: 0.2000 - accuracy: 0. - ETA: 28s - loss: 0.1999 - accurac - ETA: 27s - loss: 0.1996 - accuracy:  - ETA: 26s - loss: 0.199 - ETA: 22s - loss: 0.1986 - accuracy: 0.94 - ETA: 21s - loss: 0.1987 - acc - ETA: 19s - loss: 0.1992 - accuracy: 0 - ETA: 18s - loss: 0.1996 - accuracy - ETA: 17s - loss: 0.1997 - accuracy: 0.94 - ETA: 16s - loss: 0.2004 - accuracy: 0.94 - ETA: 16s - loss: 0.2007 -  - ETA: 3s - loss: 0.2019 - accura - ETA: 2s - loss:\n",
      "Epoch 8/10\n",
      "296/296 [==============================] - 57s 194ms/step - loss: 0.1870 - accuracy: 0.9460 - val_loss: 0.1927 - val_accuracy: 0.94600.2001 - accuracy: 0 - ETA: 50s - loss: 0.1943 - accuracy: 0.94 - ETA: 50s - loss: 0.1947 - accura - ETA: 47s - loss: 0.1941 - accuracy: 0.94 - ETA: 47s - loss: 0.1933 - accuracy: - ETA: 46s - loss: 0.1923 - accura - ETA: 45s - loss: 0.1879 - accurac - ETA: 43s - loss: 0.1862 - accuracy: 0.94 - ETA: 42s - loss: 0.1871 - accuracy: 0. - ETA: 42s - loss: 0.1871 - accur - ETA: 40s - loss: 0.1891 - accuracy: - ETA: 38s - loss: 0.1885 - accuracy: 0.9 - ETA:  - ETA: 30s - loss: 0.1837 - accuracy: 0.9 - ETA: 29s - loss: 0.1846 - accu - ETA: 27s - lo - ETA: 22s - loss: 0.1846 - ac - ETA: 19s - loss: 0.1874 - accuracy: 0.94 - ETA: 19s - loss: 0.1873 - accur - ETA: 16s - loss: 0 - ETA: 12s - loss: 0.1882 - accuracy:  - ETA: 11s - loss: 0.1879 - accuracy: 0. - ETA: 10s - loss: 0.1879 - a - ETA: 0s - loss: 0.1870 - accuracy: \n",
      "Epoch 9/10\n",
      "296/296 [==============================] - 57s 192ms/step - loss: 0.1749 - accuracy: 0.9493 - val_loss: 0.1832 - val_accuracy: 0.9493loss: 0.1712 - accuracy: - ETA: 49s - loss: 0.1666 - accuracy - ETA: 48s - loss: 0.1649 - accuracy - ETA: 47s - loss: 0.1733 - ETA: 44s - loss: 0.1718 - accur - ETA: 43s - loss: 0.1726 - acc - ETA: 41s - loss: 0.1755 - accuracy: 0.94 - ETA:  - ETA: 33s - loss: 0.1763 - accuracy - ETA: 32s - lo - ETA: 27s - loss: 0.1729 - accuracy - ETA: 25s - loss: 0.1743 - accur - ETA: 23s - loss: 0.1748 - accuracy: 0. - ETA: 22s - loss: 0.1741 - a - ETA: 20s - loss: 0.1738 - accuracy: 0.94 - ETA: 19s - loss: 0.1737 - accuracy: - ETA: 18s - loss: 0.1748 - accuracy: - ETA: 17s - loss: 0.1746 - ac - ETA: 14s - loss: 0.1750 - accuracy: 0 - ETA: 13s - los - ETA: 9s - loss: 0.1757 - accuracy - ETA: 8s - loss: 0.1760 - accura - ETA: 7s - - ETA: 4s - loss: 0.1757 - accuracy: 0. - ETA: 3s - loss: 0.1758 - accuracy:  - ETA: 3s - loss: 0.1757 - accu - ETA: 2s - loss: 0.1758  - ETA: 0s - loss: 0.1748 - accuracy\n",
      "Epoch 10/10\n",
      "296/296 [==============================] - 58s 197ms/step - loss: 0.1642 - accuracy: 0.9534 - val_loss: 0.1722 - val_accuracy: 0.9529 47s - loss: 0.1 - ETA: 54s - loss: 0.1559 - accuracy: - ETA: 41s - loss: 0.1638 - accuracy: - ETA: 40s - loss: - ETA: 35s - loss: 0.1659 - accuracy: 0.9 - ETA: 34s - loss: 0.1650 - accuracy: 0.9 - ETA: 34s - loss: 0.1639 - acc - ETA: 31s - loss: 0.1653 - accuracy: 0 - ETA: 30s - loss: 0.1645 - ac - ETA: 28s - loss: 0.1652 - accuracy: 0.9 - ETA: 27s - loss: 0.1653 - accuracy: 0.952 - ETA: 27s - loss: 0.1656 - accuracy: 0 - ETA: 26s - loss: 0.1664 - accurac - ETA: 24s - loss: 0.1653 - accuracy: 0.95 - ETA: 24s - loss: 0.1661 - accu - ETA: 21s - loss: 0.1653 - a - ETA: 18s - loss: 0.1647 - - ETA: 15s - loss: 0.1641 - ETA: 2s - loss: 0.1636 -  - ETA: 0s - loss: 0.1639 - accuracy\n"
     ]
    }
   ],
   "source": [
    "hist = model.fit(x=X_train, y=Y_train, epochs=10, batch_size=128,\n",
    "                validation_data=(X_val,Y_val), verbose=1)"
   ]
  },
  {
   "cell_type": "code",
   "execution_count": 13,
   "metadata": {},
   "outputs": [
    {
     "name": "stdout",
     "output_type": "stream",
     "text": [
      "132/132 [==============================] - 5s 40ms/step - loss: 0.1722 - accuracy: 0.9529\n",
      "Test loss0.1722, accuracy95.29%\n"
     ]
    }
   ],
   "source": [
    "#Evaluate the Model\n",
    "\n",
    "test_score=model.evaluate(X_val,Y_val)\n",
    "print(\"Test loss{:.4f}, accuracy{:.2f}%\".format(test_score[0],test_score[1]*100))\n"
   ]
  },
  {
   "cell_type": "code",
   "execution_count": 14,
   "metadata": {},
   "outputs": [
    {
     "ename": "NameError",
     "evalue": "name 'c' is not defined",
     "output_type": "error",
     "traceback": [
      "\u001b[1;31m---------------------------------------------------------------------------\u001b[0m",
      "\u001b[1;31mNameError\u001b[0m                                 Traceback (most recent call last)",
      "\u001b[1;32m<ipython-input-14-2b66fd261ee5>\u001b[0m in \u001b[0;36m<module>\u001b[1;34m\u001b[0m\n\u001b[1;32m----> 1\u001b[1;33m \u001b[0mc\u001b[0m\u001b[1;33m\u001b[0m\u001b[1;33m\u001b[0m\u001b[0m\n\u001b[0m",
      "\u001b[1;31mNameError\u001b[0m: name 'c' is not defined"
     ]
    }
   ],
   "source": []
  },
  {
   "cell_type": "code",
   "execution_count": 15,
   "metadata": {},
   "outputs": [
    {
     "data": {
      "text/plain": [
       "Text(0, 0.5, 'Loss')"
      ]
     },
     "execution_count": 15,
     "metadata": {},
     "output_type": "execute_result"
    },
    {
     "data": {
      "image/png": "[encoded data removed]",
      "text/plain": [
       "<Figure size 432x288 with 1 Axes>"
      ]
     },
     "metadata": {
      "needs_background": "light"
     },
     "output_type": "display_data"
    }
   ],
   "source": [
    "f, ax = plt.subplots()\n",
    "ax.plot([None] + hist.history['loss'],'o-')\n",
    "ax.plot([None] + hist.history['val_loss'],'x-')\n",
    "\n",
    "# Plot legend and use the best location automatically: loc = 0.\n",
    "\n",
    "ax.legend(['Train Loss', 'Validatin Loss'], loc=0)\n",
    "ax.set_title('Training/Validation Loss per Epoch')\n",
    "ax.set_xlabel('Epoch')\n",
    "ax.set_ylabel('Loss')"
   ]
  },
  {
   "cell_type": "code",
   "execution_count": null,
   "metadata": {},
   "outputs": [],
   "source": []
  }
 ],
 "metadata": {
  "kernelspec": {
   "display_name": "Python 3",
   "language": "python",
   "name": "python3"
  },
  "language_info": {
   "codemirror_mode": {
    "name": "ipython",
    "version": 3
   },
   "file_extension": ".py",
   "mimetype": "text/x-python",
   "name": "python",
   "nbconvert_exporter": "python",
   "pygments_lexer": "ipython3",
   "version": "3.8.3"
  }
 },
 "nbformat": 4,
 "nbformat_minor": 2
}
